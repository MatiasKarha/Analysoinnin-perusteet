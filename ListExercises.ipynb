{
 "cells": [
  {
   "cell_type": "code",
   "execution_count": 9,
   "metadata": {},
   "outputs": [
    {
     "name": "stdout",
     "output_type": "stream",
     "text": [
      "['table', 'chair']\n",
      "sofa\n"
     ]
    }
   ],
   "source": [
    "# Exercise 1\n",
    "\n",
    "furniture = [\"table\", \"chair\", \"shelf\", \"sofa\"]\n",
    "\n",
    "print(furniture[:2])\n",
    "\n",
    "if(\"sofa\" in furniture):\n",
    "    print(\"sofa\")\n",
    "else:\n",
    "    print(\"no sofa\")"
   ]
  },
  {
   "cell_type": "code",
   "execution_count": 15,
   "metadata": {},
   "outputs": [
    {
     "name": "stdout",
     "output_type": "stream",
     "text": [
      "[92, 16, 92, 1, 58]\n",
      "259\n",
      "92\n"
     ]
    }
   ],
   "source": [
    "# Exercise 2\n",
    "\n",
    "from random import randint\n",
    "\n",
    "thrownDiceNumbers = []\n",
    "\n",
    "for _ in range(5):\n",
    "    random_number = randint(1, 100)\n",
    "    thrownDiceNumbers.append(random_number)\n",
    "\n",
    "print(thrownDiceNumbers)\n",
    "\n",
    "sumnumbers = sum(thrownDiceNumbers)\n",
    "print(sumnumbers)\n",
    "\n",
    "highestnumber = max(thrownDiceNumbers)\n",
    "print(highestnumber)"
   ]
  },
  {
   "cell_type": "markdown",
   "metadata": {},
   "source": [
    "Exercise 1\n",
    "\n",
    "1. Create list and assign furniture as values (like table, chair, shelf…).\n",
    "\n",
    "2. Print the whole list.\n",
    "\n",
    "3. Change the app so that only first two elements of the list are printed. This can be done by few different ways.\n",
    "\n",
    "4. Change the app so that only “Sofa” is printed if it is found from the list. So, go through the whole list and check if the current element is “Sofa”.\n",
    "\n",
    "Exercise 2\n",
    "\n",
    "1. Create 5 element list. Name it thrownDiceNumbers.\n",
    "\n",
    "2. Pick randomly 5 numbers and assign them to the list. (randint() can be used to generate random number, first you need to import: from random import randint)\n",
    "\n",
    "3. Print the whole list.\n",
    "\n",
    "4. Count the sum of the list values and print the result.\n",
    "\n",
    "5. Print the highest value of the list. (Hint: Check built in function for list from the material"
   ]
  }
 ],
 "metadata": {
  "kernelspec": {
   "display_name": "Python 3",
   "language": "python",
   "name": "python3"
  },
  "language_info": {
   "codemirror_mode": {
    "name": "ipython",
    "version": 3
   },
   "file_extension": ".py",
   "mimetype": "text/x-python",
   "name": "python",
   "nbconvert_exporter": "python",
   "pygments_lexer": "ipython3",
   "version": "3.12.0"
  }
 },
 "nbformat": 4,
 "nbformat_minor": 2
}
