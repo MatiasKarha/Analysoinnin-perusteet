{
 "cells": [
  {
   "cell_type": "code",
   "execution_count": 7,
   "metadata": {},
   "outputs": [
    {
     "name": "stdout",
     "output_type": "stream",
     "text": [
      "Guess again!\n",
      "Guess again!\n",
      "Congratulations!\n"
     ]
    }
   ],
   "source": [
    "name = \"Aapo\"\n",
    "\n",
    "\n",
    "while (True):\n",
    "    vastaus = input(\"Guess my name?\")\n",
    "    if vastaus == name:\n",
    "        print(\"Congratulations!\")\n",
    "        break\n",
    "    else:\n",
    "        print(\"Guess again!\")\n"
   ]
  }
 ],
 "metadata": {
  "kernelspec": {
   "display_name": "Python 3",
   "language": "python",
   "name": "python3"
  },
  "language_info": {
   "codemirror_mode": {
    "name": "ipython",
    "version": 3
   },
   "file_extension": ".py",
   "mimetype": "text/x-python",
   "name": "python",
   "nbconvert_exporter": "python",
   "pygments_lexer": "ipython3",
   "version": "3.12.0"
  }
 },
 "nbformat": 4,
 "nbformat_minor": 2
}
