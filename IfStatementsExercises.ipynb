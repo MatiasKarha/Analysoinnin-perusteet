{
 "cells": [
  {
   "cell_type": "code",
   "execution_count": 15,
   "metadata": {},
   "outputs": [
    {
     "name": "stdout",
     "output_type": "stream",
     "text": [
      "number1 is greater than number2\n",
      "number1 is greater or equal to number2\n"
     ]
    }
   ],
   "source": [
    "# 1\n",
    "number1 = 10\n",
    "number2 = 9\n",
    "number3 = 10\n",
    "\n",
    "# a\n",
    "if(number1 == number2):\n",
    "    print(\"number1 is equal to number2\")\n",
    "# b\n",
    "if(number1 > number2):\n",
    "    print(\"number1 is greater than number2\")\n",
    "# c\n",
    "if(number1 >= number2):\n",
    "    print(\"number1 is greater or equal to number2\")\n",
    "# d\n",
    "if(number1 < number2):\n",
    "    print(\"number1 is NOT equal to number2\")\n"
   ]
  },
  {
   "cell_type": "code",
   "execution_count": 16,
   "metadata": {},
   "outputs": [
    {
     "name": "stdout",
     "output_type": "stream",
     "text": [
      "number1 is greater than number2\n",
      "number1 and number3 are equal\n"
     ]
    }
   ],
   "source": [
    "# 2\n",
    "\n",
    "# a\n",
    "if(number1 == number2 == number3):\n",
    "    print(\"all numbers are equal\")\n",
    "#b\n",
    "if(number1 == number2 or number2 == number3):\n",
    "    print(\"number1 and number2 are equal OR number2 and number3 are equal\")\n",
    "# c\n",
    "if(number1 > number2 and number1 > number3):\n",
    "    print(\"number1 is greater than number2 AND number1 is greater than number3\")\n",
    "# d\n",
    "if(number1 > number2):\n",
    "    print(\"number1 is greater than number2\")\n",
    "elif(number2 > number3):\n",
    "    print(\"number2 is greater than number3\")\n",
    "# e\n",
    "if(number1 == number2):\n",
    "    print(\"number1 and number2 are equal\")\n",
    "elif(number1 == number3):\n",
    "    print(\"number1 and number3 are equal\")"
   ]
  },
  {
   "cell_type": "code",
   "execution_count": 1,
   "metadata": {},
   "outputs": [
    {
     "name": "stdout",
     "output_type": "stream",
     "text": [
      "name1 and name2 are not equal\n"
     ]
    }
   ],
   "source": [
    "# 3\n",
    "name1 = \"Hessu\"\n",
    "name2 = \"Mikki\"\n",
    "name3 = \"Aku\"\n",
    "\n",
    "# a\n",
    "if(name1 == name2):\n",
    "    print(\"name1 and name2 are equal\")\n",
    "# b\n",
    "if(name1 < name2):\n",
    "    print(\"name1 and name2 are not equal\")\n",
    "# c\n",
    "if(name1 == name2):\n",
    "    print(\"name1 and name2 are equal\")\n",
    "elif(name1 == name3):\n",
    "    print(\"name1 and name3 are equal\")"
   ]
  },
  {
   "cell_type": "markdown",
   "metadata": {},
   "source": [
    "Create new Interactive Python Notebook and try to create the following structures. If condition is true, you can print for example “number 1 and number 2 are equal” (1a).\n",
    "\n",
    "1. Declare two variables number1 and number2. Assign values to the variables. You can (and have to) change the values during this exercise.\n",
    "\n",
    "a. Test if number1 is equal to number2.\n",
    "\n",
    "b. Test if number1 is greater than number2.\n",
    "\n",
    "c. Test if number1 is greater or equal to number2.\n",
    "\n",
    "d. Test if number1 is NOT equal to number2.\n",
    "\n",
    "2. Declare three variables number1, number2 and number3. Assign values to the variables. Change values to make the tests successfully.\n",
    "\n",
    "a. Test if all numbers are equal.\n",
    "\n",
    "b. Test if number1 and number2 are equal OR number2 and number3 are equal.\n",
    "\n",
    "c. Test if number1 is greater than number2 AND number1 is greater than number3.\n",
    "\n",
    "d. Test if number1 is greater than number2. If not, test if number2 is greater than number3.\n",
    "\n",
    "e. Test if number1 and number2 are equal. If not, test if number1 and number3 are equal.\n",
    "\n",
    "2. Make three string typed variable – for example name1, name2 and name3. Assign values.\n",
    "\n",
    "a. Test, if name1 and name2 are equal\n",
    "\n",
    "b. Test, if name1 and name2 are not equal\n",
    "\n",
    "c. Test, if name1 and name2 are equal. If not, test if name1 and name3 are equal"
   ]
  }
 ],
 "metadata": {
  "kernelspec": {
   "display_name": "Python 3",
   "language": "python",
   "name": "python3"
  },
  "language_info": {
   "codemirror_mode": {
    "name": "ipython",
    "version": 3
   },
   "file_extension": ".py",
   "mimetype": "text/x-python",
   "name": "python",
   "nbconvert_exporter": "python",
   "pygments_lexer": "ipython3",
   "version": "3.12.0"
  }
 },
 "nbformat": 4,
 "nbformat_minor": 2
}
